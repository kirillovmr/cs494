{
 "cells": [
  {
   "cell_type": "code",
   "execution_count": 283,
   "metadata": {},
   "outputs": [],
   "source": [
    "def sub(text, _map):\n",
    "    newText = \"\"\n",
    "    for l in text:\n",
    "        try:\n",
    "            newText += _map[l]\n",
    "        except KeyError:\n",
    "            newText += l\n",
    "    return newText"
   ]
  },
  {
   "cell_type": "code",
   "execution_count": 284,
   "metadata": {},
   "outputs": [
    {
     "data": {
      "text/plain": [
       "'d xsf xnsydoi zojk fvzycf sou s jzoi fjnnwnu c fvdyc. d vsu rk rdlys yzqe fvznf zo rk tnnc, sou rk qvsje gsi usoijdoi sc rk gsqe, glc oz vsyonff, sou ozc nwno s fdoijn qsysgdony. do zon hzqenc d hlc s tnx qjdt edu bgsyf, rk tswzydcn rljcd hdcqv fosqe, sou d tdjjnu s qzjjshfdgjn tjsfe xdcv sgzlc s cvdyu zt s jdcny zt xscny. d hlc cvsc do rk zcvny hzqenc, cvzliv dc hljjnu rk fvzycf uzxo s jdccjn. glc d eonx dc xzlju csen rn s tnx vzlyf cz qjdrg cvn yzlcn, sou d udu ozc xsoc cz gn hsyqvnu gk cvn cdrn d ynsqvnu cvn vsyu hdcqvnf lh vdiv. s hsqe xsf zlc zt cvn plnfcdzo, hsycjk gnqslfn zt sjj cvn qvdronkf do cvn rduujn zt cvn yzlcn, glc rsdojk gnqslfn cvn qjdrgdoi xsf vsyu nozliv cvsc d udu ozc xsoc sok nmcys xndivc zo rk gzuk.'"
      ]
     },
     "execution_count": 284,
     "metadata": {},
     "output_type": "execute_result"
    }
   ],
   "source": [
    "encoded = \"d xsf xnsydoi zojk fvzycf sou s jzoi fjnnwnu c fvdyc. d vsu rk rdlys yzqe fvznf zo rk tnnc, sou rk qvsje gsi usoijdoi sc rk gsqe, glc oz vsyonff, sou ozc nwno s fdoijn qsysgdony. do zon hzqenc d hlc s tnx qjdt edu bgsyf, rk tswzydcn rljcd hdcqv fosqe, sou d tdjjnu s qzjjshfdgjn tjsfe xdcv sgzlc s cvdyu zt s jdcny zt xscny. d hlc cvsc do rk zcvny hzqenc, cvzliv dc hljjnu rk fvzycf uzxo s jdccjn. glc d eonx dc xzlju csen rn s tnx vzlyf cz qjdrg cvn yzlcn, sou d udu ozc xsoc cz gn hsyqvnu gk cvn cdrn d ynsqvnu cvn vsyu hdcqvnf lh vdiv. s hsqe xsf zlc zt cvn plnfcdzo, hsycjk gnqslfn zt sjj cvn qvdronkf do cvn rduujn zt cvn yzlcn, glc rsdojk gnqslfn cvn qjdrgdoi xsf vsyu nozliv cvsc d udu ozc xsoc sok nmcys xndivc zo rk gzuk.\"\n",
    "encoded"
   ]
  },
  {
   "cell_type": "code",
   "execution_count": 330,
   "metadata": {},
   "outputs": [
    {
     "data": {
      "text/plain": [
       "'I WAS WEARING ONLY SHORTS AND A LONG SLEEVED T SHIRT. I HAD MY MIURA ROCK SHOES ON MY FEET, AND MY CHALK BAG DANGLING AT MY BACK, BUT NO HARNESS, AND NOT EVEN A SINGLE CARABINER. IN ONE POCKET I PUT A FEW CLIF KID ZBARS, MY FAVORITE MULTI PITCH SNACK, AND I FILLED A COLLAPSIBLE FLASK WITH ABOUT A THIRD OF A LITER OF WATER. I PUT THAT IN MY OTHER POCKET, THOUGH IT PULLED MY SHORTS DOWN A LITTLE. BUT I KNEW IT WOULD TAKE ME A FEW HOURS TO CLIMB THE ROUTE, AND I DID NOT WANT TO BE PARCHED BY THE TIME I REACHED THE HARD PITCHES UP HIGH. A PACK WAS OUT OF THE QUESTION, PARTLY BECAUSE OF ALL THE CHIMNEYS IN THE MIDDLE OF THE ROUTE, BUT MAINLY BECAUSE THE CLIMBING WAS HARD ENOUGH THAT I DID NOT WANT ANY EXTRA WEIGHT ON MY BODY.'"
      ]
     },
     "execution_count": 330,
     "metadata": {},
     "output_type": "execute_result"
    }
   ],
   "source": [
    "mapTo = {\n",
    "    'd':'I', # Guess that sentence starts at i\n",
    "    's':'A', # a lot of single 's', replace to 'a' since its most common single letter\n",
    "    'j':'L', # 'Ajj' in the last sentence could be mapped to 'ALL' only\n",
    "    'c':'T', # 'Ac' in the second sentence could be only 'an', 'at', 'as'\n",
    "    'v':'H', # 'TvAT' in the last sentence in obviously 'THAT'\n",
    "    'n':'E', # 'THn' in the prelast sentence is obviously 'THE'\n",
    "    'u':'D', # 'HAu' in the second dsentence maps to 'HAD'\n",
    "    'o':'N', # 'AoD' in the first sentence could be 'AND' only\n",
    "    't':'F', # 'tEET', second sentence -> 'FEET' or 'MEET'\n",
    "    'w':'V', # 'EwEN', second sentence -> 'EVEN' only\n",
    "    'e':'K', # 'eID', third row is 'KID'\n",
    "    'f':'S', # 'FLAfK' could be \"FLASK\" only\n",
    "    'r':'M', # 'rIDDLE' could be 'MIDDLE' only\n",
    "    'z':'O', # 'IN THE MIDDLE zF THE' is obvious\n",
    "    'x':'W', # 'xAS' is 'WAS'\n",
    "    'y':'R', # 'SHOyTS' is 'SHORTS'\n",
    "    'i':'G', # 'WEARINi' -> 'WEARING'\n",
    "    'k':'Y', # 'I WAS WEARING ONLk SHORTS' is straightforward\n",
    "    'h':'P', #  \\/ descr is on the next line \\/\n",
    "    'q':'C', # 'hOqKET' may be 'POCKET'\n",
    "    'l':'U', # 'IN ONE POCKET I PlT' -> 'PUT'\n",
    "    'g':'B', # 'gUT I KNEW' -> 'BUT'\n",
    "    'p':'Q', # 'A PACK WAS OUT OF THE pUESTION' -> 'QUESTION'\n",
    "    'm':'X', # 'ANY EmTRA WEIGHT ON MY BODY' -> 'EXTRA'\n",
    "    \n",
    "    # Now missing J and Z\n",
    "    'b':'Z', # have no idea what zbars are, but its better than jbars\n",
    "    \n",
    "    # The last pair that left\n",
    "    'a':'J'\n",
    "}\n",
    "sub(encoded, mapTo)"
   ]
  },
  {
   "cell_type": "code",
   "execution_count": 286,
   "metadata": {},
   "outputs": [
    {
     "name": "stdout",
     "output_type": "stream",
     "text": [
      "['a', 'b', 'c', 'd', 'e', 'f', 'g', 'h', 'i', 'j', 'k', 'l', 'm', 'n', 'o', 'p', 'q', 'r', 's', 't', 'u', 'v', 'w', 'x', 'y', 'z']\n",
      "['A', 'B', 'C', 'D', 'E', 'F', 'G', 'H', 'I', 'J', 'K', 'L', 'M', 'N', 'O', 'P', 'Q', 'R', 'S', 'T', 'U', 'V', 'W', 'X', 'Y', 'Z']\n"
     ]
    }
   ],
   "source": [
    "# Making sure that I mapped all the letters\n",
    "print(sorted(list(mapTo.keys())))\n",
    "print(sorted(list(mapTo.values())))"
   ]
  },
  {
   "cell_type": "code",
   "execution_count": 343,
   "metadata": {},
   "outputs": [],
   "source": [
    "def getDictionary(filename):\n",
    "    return [line[:-1] for line in open(filename, \"r\")]"
   ]
  },
  {
   "cell_type": "code",
   "execution_count": 344,
   "metadata": {},
   "outputs": [],
   "source": [
    "# Inverting and lowercasing dictionary\n",
    "inverted_dict = dict([[v.lower(),k] for k,v in mapTo.items()])"
   ]
  },
  {
   "cell_type": "code",
   "execution_count": 345,
   "metadata": {},
   "outputs": [
    {
     "name": "stderr",
     "output_type": "stream",
     "text": [
      "Trying all passwords: 100% (4797 of 4797) || Elapsed Time: 0:00:00 Time:  0:00:00\n"
     ]
    },
    {
     "name": "stdout",
     "output_type": "stream",
     "text": [
      "Found password for dfa1339508e1b702a4588a3209a8e0ec : jnhynqvslo\n"
     ]
    }
   ],
   "source": [
    "import hashlib\n",
    "import progressbar\n",
    "\n",
    "#\n",
    "# Accepts map of users and their hashed passwords along with dictionary filename\n",
    "# Tries all possible combinations of all transformations but salt firstly\n",
    "# Then looks for a salted password\n",
    "#\n",
    "def password_cracker(toFind, filename):\n",
    "    for pwd in progressbar.progressbar(getDictionary(filename), prefix='Trying all passwords: '):\n",
    "        finalPwd = sub(pwd, inverted_dict)\n",
    "        f = hashlib.md5\n",
    "        if f(finalPwd.encode('utf-8')).hexdigest() == toFind:\n",
    "            print(\"Found password for %s : %s\" % (toFind, finalPwd))\n",
    "        \n",
    "filename = \"files/dictionary.txt\"\n",
    "password_cracker(\"dfa1339508e1b702a4588a3209a8e0ec\", filename);"
   ]
  },
  {
   "cell_type": "code",
   "execution_count": null,
   "metadata": {},
   "outputs": [],
   "source": []
  },
  {
   "cell_type": "code",
   "execution_count": null,
   "metadata": {},
   "outputs": [],
   "source": []
  },
  {
   "cell_type": "code",
   "execution_count": null,
   "metadata": {},
   "outputs": [],
   "source": []
  }
 ],
 "metadata": {
  "kernelspec": {
   "display_name": "Python 3",
   "language": "python",
   "name": "python3"
  },
  "language_info": {
   "codemirror_mode": {
    "name": "ipython",
    "version": 3
   },
   "file_extension": ".py",
   "mimetype": "text/x-python",
   "name": "python",
   "nbconvert_exporter": "python",
   "pygments_lexer": "ipython3",
   "version": "3.7.4"
  }
 },
 "nbformat": 4,
 "nbformat_minor": 2
}
