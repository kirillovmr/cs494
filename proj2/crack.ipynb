{
 "cells": [
  {
   "cell_type": "code",
   "execution_count": 1,
   "metadata": {},
   "outputs": [
    {
     "name": "stdout",
     "output_type": "stream",
     "text": [
      "{'shake_256', 'whirlpool', 'sha3_224', 'shake256', 'sha3-384', 'shake_128', 'sha512-256', 'md4', 'sha512-224', 'sm3', 'blake2b512', 'blake2s256', 'md5-sha1', 'md5', 'blake2b', 'sha512', 'sha3-256', 'mdc2', 'sha256', 'sha3_384', 'blake2s', 'ripemd160', 'sha3_512', 'sha1', 'sha3-224', 'sha3-512', 'sha224', 'sha3_256', 'sha384', 'shake128'}\n"
     ]
    }
   ],
   "source": [
    "import hashlib\n",
    "import progressbar\n",
    "import json\n",
    "print(hashlib.algorithms_available)"
   ]
  },
  {
   "cell_type": "code",
   "execution_count": 25,
   "metadata": {},
   "outputs": [
    {
     "ename": "AttributeError",
     "evalue": "module 'hashlib' has no attribute 'md5_sha1'",
     "output_type": "error",
     "traceback": [
      "\u001b[0;31m---------------------------------------------------------------------------\u001b[0m",
      "\u001b[0;31mAttributeError\u001b[0m                            Traceback (most recent call last)",
      "\u001b[0;32m<ipython-input-25-3bc06893a49e>\u001b[0m in \u001b[0;36m<module>\u001b[0;34m\u001b[0m\n\u001b[0;32m----> 1\u001b[0;31m \u001b[0mlen\u001b[0m\u001b[0;34m(\u001b[0m\u001b[0mhashlib\u001b[0m\u001b[0;34m.\u001b[0m\u001b[0mmd5_sha1\u001b[0m\u001b[0;34m(\u001b[0m\u001b[0;34m\"vkiril2\"\u001b[0m\u001b[0;34m.\u001b[0m\u001b[0mencode\u001b[0m\u001b[0;34m(\u001b[0m\u001b[0;34m'utf-8'\u001b[0m\u001b[0;34m)\u001b[0m\u001b[0;34m)\u001b[0m\u001b[0;34m.\u001b[0m\u001b[0mhexdigest\u001b[0m\u001b[0;34m(\u001b[0m\u001b[0;34m)\u001b[0m\u001b[0;34m)\u001b[0m\u001b[0;34m\u001b[0m\u001b[0;34m\u001b[0m\u001b[0m\n\u001b[0m",
      "\u001b[0;31mAttributeError\u001b[0m: module 'hashlib' has no attribute 'md5_sha1'"
     ]
    }
   ],
   "source": [
    "len(hashlib.md5_sha1(\"vkiril2\".encode('utf-8')).hexdigest())"
   ]
  },
  {
   "cell_type": "code",
   "execution_count": 2,
   "metadata": {},
   "outputs": [],
   "source": [
    "def getDictionary(filename):\n",
    "    return [line[:-1] for line in open(filename, \"r\")]\n",
    "# getDictionary(\"files/dictionary.txt\")"
   ]
  },
  {
   "cell_type": "code",
   "execution_count": 3,
   "metadata": {},
   "outputs": [],
   "source": [
    "# Returns text with salt added\n",
    "def salt(text):\n",
    "    return [text + str(i).zfill(5) for i in range(100000)]\n",
    "# salt(\"mike\")"
   ]
  },
  {
   "cell_type": "code",
   "execution_count": 4,
   "metadata": {},
   "outputs": [],
   "source": [
    "# Returns text under caesar cipher\n",
    "def caesar(text):\n",
    "    return [\"\".join(chr((ord(char) - 97 + shift) % 26 + 97) if char.isalpha() else char for char in text) for shift in range(26)]\n",
    "# caesar(\"abcd12\")"
   ]
  },
  {
   "cell_type": "code",
   "execution_count": 5,
   "metadata": {},
   "outputs": [],
   "source": [
    "# Returns text in basic leet representation\n",
    "def leet(text):\n",
    "    chars = {\"a\":\"4\",\"e\":\"3\",\"g\":\"6\",\"i\":\"1\",\"o\":\"0\",\"s\":\"5\",\"t\":\"7\",\"z\":\"2\"}\n",
    "    return \"\".join(chars[char.lower()] if char in chars else char for char in text)\n",
    "# leet(\"letmeinnow\")"
   ]
  },
  {
   "cell_type": "code",
   "execution_count": 6,
   "metadata": {},
   "outputs": [],
   "source": [
    "# Returns hashes of text\n",
    "def hashed(text):\n",
    "    func = [hashlib.md5, hashlib.sha1, hashlib.sha256, hashlib.sha512]\n",
    "    return [f(text.encode('utf-8')).hexdigest() for f in func]\n",
    "# hashed(\"lol\")"
   ]
  },
  {
   "cell_type": "code",
   "execution_count": null,
   "metadata": {},
   "outputs": [],
   "source": []
  },
  {
   "cell_type": "code",
   "execution_count": 7,
   "metadata": {},
   "outputs": [],
   "source": [
    "# print(hashlib.md5(\"matrix123\".encode('utf-8')).hexdigest())\n",
    "# print(\"2224e8c5299874a5fe44a8de2f31c94e\")\n",
    "# print()\n",
    "# print(hashlib.sha256(\"snowball138426\".encode('utf-8')).hexdigest())\n",
    "# print(\"e90829e04a20e9b49a4178f65b9a1a725191bd99fbd8071fa9cb6ee2552f2bc5\")\n",
    "# print()\n",
    "# print(hashlib.sha512(\"tnynqevry\".encode('utf-8')).hexdigest())\n",
    "# print(\"6de664f06c446616eb374e1ba109a24b9172929162937831b18d7812fc76e1a3a8c9f4d1443d300b1b6a0419e80572ab0d5788f5faf28c869e06c84fe0242d96\")\n",
    "# print()\n",
    "# print(hashlib.sha1(\"r0u5534u\".encode('utf-8')).hexdigest())\n",
    "# print(\"21d5c27a7e06317d1d02e0135a76454971e2c6d2\")\n",
    "# print()\n",
    "# print(hashlib.sha256(\"josephine\".encode('utf-8')).hexdigest())\n",
    "# print(\"aec0e78824de1205cf98384780983c6f2b7c03f8a6e5036a508ece76f1b3c5a7\")\n",
    "# print()\n",
    "# print(hashlib.sha512(\"pumpkin1\".encode('utf-8')).hexdigest())\n",
    "# print(\"fa5da9b79da364f5aea54b2b9cdedaa4fff6f522be7f1e2b5f13f399bd1c94ca059220d7fd1fed2a31a60068c2d13007da7bf987b1623a7fc0ada0390fafb584\")\n",
    "# print()\n",
    "# print(hashlib.md5(\"\".encode('utf-8')).hexdigest())\n",
    "# print(\"dfa1339508e1b702a4588a3209a8e0ec\")\n",
    "# print()"
   ]
  },
  {
   "cell_type": "code",
   "execution_count": 8,
   "metadata": {},
   "outputs": [],
   "source": [
    "#\n",
    "# Accepts map of users and their hashed passwords along with dictionary filename\n",
    "# Tries all possible combinations of all transformations but salt firstly\n",
    "# Then looks for a salted password\n",
    "#\n",
    "def password_cracker(toFind, filename):\n",
    "    # Map of hash size to its corresponding function\n",
    "    hashMap = {32:hashlib.md5, 40:hashlib.sha1, 64:hashlib.sha256, 128:hashlib.sha512}\n",
    "    found = {}\n",
    "    error = {}\n",
    "    \n",
    "    # Handles the case if hashed password has len which is not defined in hashMap above\n",
    "    for user in list(toFind):\n",
    "        if not hashMap.get(len(toFind[user])):\n",
    "            print(\"! Have no function defined for hash %s\" % toFind[user])\n",
    "            error[user] = toFind[user]\n",
    "            del toFind[user]\n",
    "\n",
    "    # Lets try all but salt\n",
    "    for pwd in progressbar.progressbar(getDictionary(filename), prefix='All but salt: '):\n",
    "        for pwdLeet in [pwd, leet(pwd)]:\n",
    "            for pwdCaesar in caesar(pwdLeet):\n",
    "                for user in list(toFind):\n",
    "                    f = hashMap.get(len(toFind[user]))\n",
    "                    finalPwd = pwdCaesar\n",
    "                    if f(finalPwd.encode('utf-8')).hexdigest() == toFind[user]:\n",
    "                        print(\"Found password for %s : %s\" % (user, finalPwd))\n",
    "                        found[user] = {\n",
    "                            \"password\":finalPwd, \n",
    "                            \"hashFunc\":f.__name__, \n",
    "                            \"seq\":\"%s -leet> %s -caesar> %s\" % (pwd, pwdLeet, pwdCaesar)\n",
    "                        }\n",
    "                        del toFind[user]\n",
    "                        \n",
    "    # Salted password\n",
    "#     for pwd in progressbar.progressbar(getDictionary(filename), prefix='Salt: '):\n",
    "#         for pwdSalted in salt(pwd):\n",
    "#             for user in list(toFind):\n",
    "#                 f = hashMap.get(len(toFind[user]))\n",
    "#                 if f(pwdSalted.encode('utf-8')).hexdigest() == toFind[user]:\n",
    "#                     print(\"Found password for %s : %s\" % (user, pwdSalted))\n",
    "#                     found[user] = {\n",
    "#                         \"password\":pwdSalted, \n",
    "#                         \"hashFunc\":f.__name__, \n",
    "#                         \"seq\":\"%s -salt> %s\" % (pwd, pwdSalted)\n",
    "#                     }\n",
    "#                     del toFind[user]\n",
    "                \n",
    "    # Print results\n",
    "    print(\"\\n----------------\")\n",
    "    print(\"Found passwords:\")\n",
    "    print(json.dumps(found, indent=2))\n",
    "    \n",
    "    print(\"\\nErrors in hash length:\")\n",
    "    print(json.dumps(error, indent=2))\n",
    "    \n",
    "    print(\"\\nNot found:\")\n",
    "    print(json.dumps(toFind, indent=2))\n",
    "        "
   ]
  },
  {
   "cell_type": "code",
   "execution_count": 153,
   "metadata": {},
   "outputs": [
    {
     "name": "stderr",
     "output_type": "stream",
     "text": [
      "All but salt:  18% (911 of 4797) |#      | Elapsed Time: 0:00:00 ETA:   0:00:03"
     ]
    },
    {
     "name": "stdout",
     "output_type": "stream",
     "text": [
      "Found password for user5 : josephine\n"
     ]
    },
    {
     "name": "stderr",
     "output_type": "stream",
     "text": [
      "All but salt:  35% (1701 of 4797) |##    | Elapsed Time: 0:00:01 ETA:   0:00:02"
     ]
    },
    {
     "name": "stdout",
     "output_type": "stream",
     "text": [
      "Found password for user6 : pumpkin1\n"
     ]
    },
    {
     "name": "stderr",
     "output_type": "stream",
     "text": [
      "All but salt:  58% (2794 of 4797) |###   | Elapsed Time: 0:00:01 ETA:   0:00:01"
     ]
    },
    {
     "name": "stdout",
     "output_type": "stream",
     "text": [
      "Found password for user3 : tnynqevry\n"
     ]
    },
    {
     "name": "stderr",
     "output_type": "stream",
     "text": [
      "All but salt:  83% (4008 of 4797) |##### | Elapsed Time: 0:00:02 ETA:   0:00:00"
     ]
    },
    {
     "name": "stdout",
     "output_type": "stream",
     "text": [
      "Found password for user4 : r0u5534u\n"
     ]
    },
    {
     "name": "stderr",
     "output_type": "stream",
     "text": [
      "All but salt: 100% (4797 of 4797) |######| Elapsed Time: 0:00:02 Time:  0:00:02\n",
      "Salt: N/A% (0 of 4797) |                 | Elapsed Time: 0:00:00 ETA:  --:--:--"
     ]
    },
    {
     "name": "stdout",
     "output_type": "stream",
     "text": [
      "Found password for user1 : matrix123\n"
     ]
    },
    {
     "name": "stderr",
     "output_type": "stream",
     "text": [
      "Salt:  81% (3916 of 4797) |###########   | Elapsed Time: 0:24:45 ETA:   0:05:04"
     ]
    },
    {
     "name": "stdout",
     "output_type": "stream",
     "text": [
      "Found password for user2 : 0000111\n"
     ]
    },
    {
     "name": "stderr",
     "output_type": "stream",
     "text": [
      "Salt: 100% (4797 of 4797) |##############| Elapsed Time: 0:27:49 Time:  0:27:49\n"
     ]
    },
    {
     "name": "stdout",
     "output_type": "stream",
     "text": [
      "\n",
      "----------------\n",
      "Found passwords:\n",
      "{\n",
      "  \"user5\": {\n",
      "    \"password\": \"josephine\",\n",
      "    \"hashFunc\": \"openssl_sha256\",\n",
      "    \"seq\": \"josephine -leet> josephine -caesar> josephine\"\n",
      "  },\n",
      "  \"user6\": {\n",
      "    \"password\": \"pumpkin1\",\n",
      "    \"hashFunc\": \"openssl_sha512\",\n",
      "    \"seq\": \"pumpkin1 -leet> pumpkin1 -caesar> pumpkin1\"\n",
      "  },\n",
      "  \"user3\": {\n",
      "    \"password\": \"tnynqevry\",\n",
      "    \"hashFunc\": \"openssl_sha512\",\n",
      "    \"seq\": \"galadriel -leet> galadriel -caesar> tnynqevry\"\n",
      "  },\n",
      "  \"user4\": {\n",
      "    \"password\": \"r0u5534u\",\n",
      "    \"hashFunc\": \"openssl_sha1\",\n",
      "    \"seq\": \"rousseau -leet> r0u5534u -caesar> r0u5534u\"\n",
      "  },\n",
      "  \"user1\": {\n",
      "    \"password\": \"matrix123\",\n",
      "    \"hashFunc\": \"openssl_md5\",\n",
      "    \"seq\": \"matrix123 -leet> matrix123 -caesar> matrix123\"\n",
      "  },\n",
      "  \"user2\": {\n",
      "    \"password\": \"snowball138426\",\n",
      "    \"hashFunc\": \"openssl_sha256\",\n",
      "    \"seq\": \"snowball1 -salt> snowball138426\"\n",
      "  }\n",
      "}\n",
      "\n",
      "Errors in hash length:\n",
      "{}\n",
      "\n",
      "Not found:\n",
      "{\n",
      "  \"user7\": \"dfa1339508e1b702a4588a3209a8e0ec\"\n",
      "}\n"
     ]
    }
   ],
   "source": [
    "filename = \"files/dictionary.txt\"\n",
    "toFind = {\n",
    "    \"user1\":\"2224e8c5299874a5fe44a8de2f31c94e\",\n",
    "    \"user2\":\"e90829e04a20e9b49a4178f65b9a1a725191bd99fbd8071fa9cb6ee2552f2bc5\",\n",
    "    \"user3\":\"6de664f06c446616eb374e1ba109a24b9172929162937831b18d7812fc76e1a3a8c9f4d1443d300b1b6a0419e80572ab0d5788f5faf28c869e06c84fe0242d96\",\n",
    "    \"user4\":\"21d5c27a7e06317d1d02e0135a76454971e2c6d2\",\n",
    "    \"user5\":\"aec0e78824de1205cf98384780983c6f2b7c03f8a6e5036a508ece76f1b3c5a7\",\n",
    "    \"user6\":\"fa5da9b79da364f5aea54b2b9cdedaa4fff6f522be7f1e2b5f13f399bd1c94ca059220d7fd1fed2a31a60068c2d13007da7bf987b1623a7fc0ada0390fafb584\",\n",
    "    \"user7\":\"dfa1339508e1b702a4588a3209a8e0ec\"\n",
    "}\n",
    "password_cracker(toFind, filename);"
   ]
  },
  {
   "cell_type": "code",
   "execution_count": 101,
   "metadata": {},
   "outputs": [],
   "source": []
  },
  {
   "cell_type": "code",
   "execution_count": null,
   "metadata": {},
   "outputs": [],
   "source": []
  },
  {
   "cell_type": "code",
   "execution_count": null,
   "metadata": {},
   "outputs": [],
   "source": []
  }
 ],
 "metadata": {
  "kernelspec": {
   "display_name": "Python 3",
   "language": "python",
   "name": "python3"
  },
  "language_info": {
   "codemirror_mode": {
    "name": "ipython",
    "version": 3
   },
   "file_extension": ".py",
   "mimetype": "text/x-python",
   "name": "python",
   "nbconvert_exporter": "python",
   "pygments_lexer": "ipython3",
   "version": "3.7.4"
  }
 },
 "nbformat": 4,
 "nbformat_minor": 2
}
